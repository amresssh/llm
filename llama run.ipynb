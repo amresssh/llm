{
 "cells": [
  {
   "cell_type": "code",
   "execution_count": 1,
   "id": "65a597a3-9d1e-46cb-8806-5a190c3a284a",
   "metadata": {},
   "outputs": [
    {
     "name": "stderr",
     "output_type": "stream",
     "text": [
      "failed to create process.\n"
     ]
    }
   ],
   "source": [
    "!torchrun --nproc_per_node 1 example_chat_completion.py \\\n",
    "    --ckpt_dir C:\\Windows\\System32\\llama-recipes\\llama\\llama-2-7b-chat\\\n",
    "    --tokenizer_path C:\\Windows\\System32\\llama-recipes\\llama\\\n",
    "    --max_seq_len 512 --max_batch_size 6\n"
   ]
  },
  {
   "cell_type": "code",
   "execution_count": null,
   "id": "8837ca11-44ac-4a66-99b9-74b7255bb935",
   "metadata": {},
   "outputs": [],
   "source": []
  }
 ],
 "metadata": {
  "kernelspec": {
   "display_name": "Python 3 (ipykernel)",
   "language": "python",
   "name": "python3"
  },
  "language_info": {
   "codemirror_mode": {
    "name": "ipython",
    "version": 3
   },
   "file_extension": ".py",
   "mimetype": "text/x-python",
   "name": "python",
   "nbconvert_exporter": "python",
   "pygments_lexer": "ipython3",
   "version": "3.9.18"
  }
 },
 "nbformat": 4,
 "nbformat_minor": 5
}
